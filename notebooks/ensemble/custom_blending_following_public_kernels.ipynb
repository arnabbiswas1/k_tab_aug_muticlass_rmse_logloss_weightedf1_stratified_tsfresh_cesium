{
 "cells": [
  {
   "cell_type": "markdown",
   "id": "facial-annex",
   "metadata": {},
   "source": [
    "### The Simplest form of Blending using the approach followed in Kaggle kernel"
   ]
  },
  {
   "cell_type": "code",
   "execution_count": 1,
   "id": "august-supply",
   "metadata": {},
   "outputs": [],
   "source": [
    "import sys\n",
    "import logging\n",
    "import math\n",
    "import re\n",
    "\n",
    "import glob\n",
    "import os\n",
    "import sys\n",
    "\n",
    "import pandas as pd\n",
    "import numpy as np\n",
    "\n",
    "import matplotlib\n",
    "import matplotlib.pyplot as plt\n",
    "\n",
    "from sklearn.preprocessing import StandardScaler, MinMaxScaler, Normalizer\n",
    "\n",
    "pd.options.display.max_rows = 1000\n",
    "pd.options.display.max_columns = 1000\n",
    "\n",
    "%matplotlib inline\n",
    "\n",
    "matplotlib.style.use(\"Solarize_Light2\")\n",
    "\n",
    "sys.path.insert(0, \"/opt/vssexclude/personal/kaggle/k_tab_aug\")"
   ]
  },
  {
   "cell_type": "code",
   "execution_count": 2,
   "id": "periodic-halloween",
   "metadata": {},
   "outputs": [],
   "source": [
    "%load_ext autoreload\n",
    "%autoreload 2\n",
    "%config Completer.use_jedi = False"
   ]
  },
  {
   "cell_type": "code",
   "execution_count": 3,
   "id": "geological-luxury",
   "metadata": {},
   "outputs": [],
   "source": [
    "import src.config.constants as constants\n",
    "import src.munging as process_data\n",
    "import src.viz as viz\n",
    "import src.common as common\n",
    "import src.config.tsfresh_config as tsfresh_config"
   ]
  },
  {
   "cell_type": "code",
   "execution_count": 4,
   "id": "nasty-welsh",
   "metadata": {},
   "outputs": [],
   "source": [
    "logger = common.get_logger(\"blend\")"
   ]
  },
  {
   "cell_type": "code",
   "execution_count": 5,
   "id": "significant-throw",
   "metadata": {},
   "outputs": [
    {
     "name": "stdout",
     "output_type": "stream",
     "text": [
      "[INFO]2021-08-28 12:50:45,522:blend:Reading Data from /opt/vssexclude/personal/kaggle/k_tab_aug/data/processed...\n",
      "[INFO]2021-08-28 12:50:45,690:blend:Shape of train_df : (250000, 101)\n",
      "[INFO]2021-08-28 12:50:45,803:blend:Shape of test_df : (150000, 100)\n",
      "[INFO]2021-08-28 12:50:45,809:blend:Shape of sample_submission_df : (150000, 1)\n"
     ]
    }
   ],
   "source": [
    "train_df, test_df, sample_submission_df = process_data.read_processed_data(\n",
    "    logger,\n",
    "    constants.PROCESSED_DATA_DIR,\n",
    "    train=True,\n",
    "    test=True,\n",
    "    sample_submission=True,\n",
    ")"
   ]
  },
  {
   "cell_type": "code",
   "execution_count": 8,
   "id": "accessory-southwest",
   "metadata": {},
   "outputs": [],
   "source": [
    "# File with public score\n",
    "df_sub_ext = pd.read_csv(f\"{constants.PUB_SUBMISSION_DIR}/0.part\")"
   ]
  },
  {
   "cell_type": "code",
   "execution_count": 9,
   "id": "stone-blade",
   "metadata": {},
   "outputs": [],
   "source": [
    "df_lgb_log_loss_top_10 = pd.read_csv(f\"{constants.SUBMISSION_DIR}/sub_lgb_ts_f1_weighted_SK_10_top_50_features_0825_1755_0.08395.csv\")"
   ]
  },
  {
   "cell_type": "code",
   "execution_count": 10,
   "id": "comparative-pharmacy",
   "metadata": {},
   "outputs": [
    {
     "data": {
      "text/html": [
       "<div>\n",
       "<style scoped>\n",
       "    .dataframe tbody tr th:only-of-type {\n",
       "        vertical-align: middle;\n",
       "    }\n",
       "\n",
       "    .dataframe tbody tr th {\n",
       "        vertical-align: top;\n",
       "    }\n",
       "\n",
       "    .dataframe thead th {\n",
       "        text-align: right;\n",
       "    }\n",
       "</style>\n",
       "<table border=\"1\" class=\"dataframe\">\n",
       "  <thead>\n",
       "    <tr style=\"text-align: right;\">\n",
       "      <th></th>\n",
       "      <th>id</th>\n",
       "      <th>loss</th>\n",
       "    </tr>\n",
       "  </thead>\n",
       "  <tbody>\n",
       "    <tr>\n",
       "      <th>0</th>\n",
       "      <td>250000</td>\n",
       "      <td>8.408537</td>\n",
       "    </tr>\n",
       "    <tr>\n",
       "      <th>1</th>\n",
       "      <td>250001</td>\n",
       "      <td>5.092826</td>\n",
       "    </tr>\n",
       "    <tr>\n",
       "      <th>2</th>\n",
       "      <td>250002</td>\n",
       "      <td>9.090190</td>\n",
       "    </tr>\n",
       "    <tr>\n",
       "      <th>3</th>\n",
       "      <td>250003</td>\n",
       "      <td>8.006694</td>\n",
       "    </tr>\n",
       "    <tr>\n",
       "      <th>4</th>\n",
       "      <td>250004</td>\n",
       "      <td>6.851722</td>\n",
       "    </tr>\n",
       "  </tbody>\n",
       "</table>\n",
       "</div>"
      ],
      "text/plain": [
       "       id      loss\n",
       "0  250000  8.408537\n",
       "1  250001  5.092826\n",
       "2  250002  9.090190\n",
       "3  250003  8.006694\n",
       "4  250004  6.851722"
      ]
     },
     "execution_count": 10,
     "metadata": {},
     "output_type": "execute_result"
    }
   ],
   "source": [
    "df_sub_ext.head()"
   ]
  },
  {
   "cell_type": "code",
   "execution_count": 11,
   "id": "impossible-screening",
   "metadata": {},
   "outputs": [
    {
     "data": {
      "text/html": [
       "<div>\n",
       "<style scoped>\n",
       "    .dataframe tbody tr th:only-of-type {\n",
       "        vertical-align: middle;\n",
       "    }\n",
       "\n",
       "    .dataframe tbody tr th {\n",
       "        vertical-align: top;\n",
       "    }\n",
       "\n",
       "    .dataframe thead th {\n",
       "        text-align: right;\n",
       "    }\n",
       "</style>\n",
       "<table border=\"1\" class=\"dataframe\">\n",
       "  <thead>\n",
       "    <tr style=\"text-align: right;\">\n",
       "      <th></th>\n",
       "      <th>id</th>\n",
       "      <th>loss</th>\n",
       "    </tr>\n",
       "  </thead>\n",
       "  <tbody>\n",
       "    <tr>\n",
       "      <th>0</th>\n",
       "      <td>250000</td>\n",
       "      <td>3</td>\n",
       "    </tr>\n",
       "    <tr>\n",
       "      <th>1</th>\n",
       "      <td>250001</td>\n",
       "      <td>0</td>\n",
       "    </tr>\n",
       "    <tr>\n",
       "      <th>2</th>\n",
       "      <td>250002</td>\n",
       "      <td>0</td>\n",
       "    </tr>\n",
       "    <tr>\n",
       "      <th>3</th>\n",
       "      <td>250003</td>\n",
       "      <td>0</td>\n",
       "    </tr>\n",
       "    <tr>\n",
       "      <th>4</th>\n",
       "      <td>250004</td>\n",
       "      <td>7</td>\n",
       "    </tr>\n",
       "  </tbody>\n",
       "</table>\n",
       "</div>"
      ],
      "text/plain": [
       "       id  loss\n",
       "0  250000     3\n",
       "1  250001     0\n",
       "2  250002     0\n",
       "3  250003     0\n",
       "4  250004     7"
      ]
     },
     "execution_count": 11,
     "metadata": {},
     "output_type": "execute_result"
    }
   ],
   "source": [
    "df_lgb_log_loss_top_10.head()"
   ]
  },
  {
   "cell_type": "code",
   "execution_count": 12,
   "id": "foster-eleven",
   "metadata": {},
   "outputs": [],
   "source": [
    "sample_submission_df.loss = (0.9 * df_sub_ext.loss + 0.1 * df_lgb_log_loss_top_10.loss).values"
   ]
  },
  {
   "cell_type": "code",
   "execution_count": 13,
   "id": "funded-advisory",
   "metadata": {},
   "outputs": [
    {
     "data": {
      "text/html": [
       "<div>\n",
       "<style scoped>\n",
       "    .dataframe tbody tr th:only-of-type {\n",
       "        vertical-align: middle;\n",
       "    }\n",
       "\n",
       "    .dataframe tbody tr th {\n",
       "        vertical-align: top;\n",
       "    }\n",
       "\n",
       "    .dataframe thead th {\n",
       "        text-align: right;\n",
       "    }\n",
       "</style>\n",
       "<table border=\"1\" class=\"dataframe\">\n",
       "  <thead>\n",
       "    <tr style=\"text-align: right;\">\n",
       "      <th></th>\n",
       "      <th>loss</th>\n",
       "    </tr>\n",
       "    <tr>\n",
       "      <th>id</th>\n",
       "      <th></th>\n",
       "    </tr>\n",
       "  </thead>\n",
       "  <tbody>\n",
       "    <tr>\n",
       "      <th>250000</th>\n",
       "      <td>7.867683</td>\n",
       "    </tr>\n",
       "    <tr>\n",
       "      <th>250001</th>\n",
       "      <td>4.583544</td>\n",
       "    </tr>\n",
       "    <tr>\n",
       "      <th>250002</th>\n",
       "      <td>8.181171</td>\n",
       "    </tr>\n",
       "    <tr>\n",
       "      <th>250003</th>\n",
       "      <td>7.206025</td>\n",
       "    </tr>\n",
       "    <tr>\n",
       "      <th>250004</th>\n",
       "      <td>6.866550</td>\n",
       "    </tr>\n",
       "  </tbody>\n",
       "</table>\n",
       "</div>"
      ],
      "text/plain": [
       "            loss\n",
       "id              \n",
       "250000  7.867683\n",
       "250001  4.583544\n",
       "250002  8.181171\n",
       "250003  7.206025\n",
       "250004  6.866550"
      ]
     },
     "execution_count": 13,
     "metadata": {},
     "output_type": "execute_result"
    }
   ],
   "source": [
    "sample_submission_df.head()"
   ]
  },
  {
   "cell_type": "code",
   "execution_count": 36,
   "id": "former-brisbane",
   "metadata": {},
   "outputs": [],
   "source": [
    "sample_submission_df.to_csv(f\"{constants.SUBMISSION_DIR}/dummy_sub.csv\")"
   ]
  },
  {
   "cell_type": "code",
   "execution_count": 37,
   "id": "wireless-threat",
   "metadata": {},
   "outputs": [
    {
     "data": {
      "text/html": [
       "<div>\n",
       "<style scoped>\n",
       "    .dataframe tbody tr th:only-of-type {\n",
       "        vertical-align: middle;\n",
       "    }\n",
       "\n",
       "    .dataframe tbody tr th {\n",
       "        vertical-align: top;\n",
       "    }\n",
       "\n",
       "    .dataframe thead th {\n",
       "        text-align: right;\n",
       "    }\n",
       "</style>\n",
       "<table border=\"1\" class=\"dataframe\">\n",
       "  <thead>\n",
       "    <tr style=\"text-align: right;\">\n",
       "      <th></th>\n",
       "      <th>id</th>\n",
       "      <th>loss</th>\n",
       "    </tr>\n",
       "  </thead>\n",
       "  <tbody>\n",
       "    <tr>\n",
       "      <th>0</th>\n",
       "      <td>250000</td>\n",
       "      <td>7.554404</td>\n",
       "    </tr>\n",
       "    <tr>\n",
       "      <th>1</th>\n",
       "      <td>250001</td>\n",
       "      <td>4.582201</td>\n",
       "    </tr>\n",
       "    <tr>\n",
       "      <th>2</th>\n",
       "      <td>250002</td>\n",
       "      <td>8.184320</td>\n",
       "    </tr>\n",
       "    <tr>\n",
       "      <th>3</th>\n",
       "      <td>250003</td>\n",
       "      <td>7.241274</td>\n",
       "    </tr>\n",
       "    <tr>\n",
       "      <th>4</th>\n",
       "      <td>250004</td>\n",
       "      <td>6.171326</td>\n",
       "    </tr>\n",
       "  </tbody>\n",
       "</table>\n",
       "</div>"
      ],
      "text/plain": [
       "       id      loss\n",
       "0  250000  7.554404\n",
       "1  250001  4.582201\n",
       "2  250002  8.184320\n",
       "3  250003  7.241274\n",
       "4  250004  6.171326"
      ]
     },
     "execution_count": 37,
     "metadata": {},
     "output_type": "execute_result"
    }
   ],
   "source": [
    "pd.read_csv(f\"{constants.SUBMISSION_DIR}/dummy_sub.csv\").head()"
   ]
  },
  {
   "cell_type": "code",
   "execution_count": null,
   "id": "extraordinary-paste",
   "metadata": {},
   "outputs": [],
   "source": []
  }
 ],
 "metadata": {
  "kernelspec": {
   "display_name": "Python 3",
   "language": "python",
   "name": "python3"
  },
  "language_info": {
   "codemirror_mode": {
    "name": "ipython",
    "version": 3
   },
   "file_extension": ".py",
   "mimetype": "text/x-python",
   "name": "python",
   "nbconvert_exporter": "python",
   "pygments_lexer": "ipython3",
   "version": "3.8.6"
  }
 },
 "nbformat": 4,
 "nbformat_minor": 5
}
